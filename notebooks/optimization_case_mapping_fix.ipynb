{
 "cells": [
  {
   "cell_type": "markdown",
   "id": "203f2b01",
   "metadata": {},
   "source": [
    "# Разбор проблемы оптимизации\n",
    "\n",
    "Этот блокнот фиксирует, почему перебор параметров давал одинаковый результат, и как это исправить."
   ]
  },
  {
   "cell_type": "markdown",
   "id": "e0063ad9",
   "metadata": {},
   "source": [
    "## 1. Воспроизведение текущего поведения\n",
    "Оптимизатор передаёт параметры в `SignalConfig.indicator_params` с верхним регистром (`KATR`, `PerATR` и т.д.).\n",
    "Однако вспомогательная функция `build_indicator` фильтрует только ключи в нижнем регистре и в итоге отбрасывает все значения."
   ]
  },
  {
   "cell_type": "code",
   "execution_count": null,
   "id": "4f1c3d42",
   "metadata": {},
   "outputs": [],
   "source": [
    "from pprint import pprint\n",
    "\n",
    "original_params = {\n",
    "    'KATR': 5,\n",
    "    'PerATR': 20,\n",
    "    'SMA': 3,\n",
    "    'MinRA': 0,\n",
    "    'FlATR': 0,\n",
    "    'FlHL': 0,\n",
    "}\n",
    "\n",
    "def buggy_build_indicator(params):\n",
    "    param_mapping = {\n",
    "        'katr': 'KATR',\n",
    "        'peratr': 'PerATR',\n",
    "        'sma': 'SMA',\n",
    "        'minra': 'MinRA',\n",
    "        'flatr': 'FlATR',\n",
    "        'flhl': 'FlHL',\n",
    "    }\n",
    "    indicator_params = {}\n",
    "    for param_key, param_value in params.items():\n",
    "        if param_key in param_mapping:\n",
    "            indicator_params[param_mapping[param_key]] = param_value\n",
    "    return indicator_params\n",
    "\n",
    "pprint(buggy_build_indicator(original_params))"
   ]
  },
  {
   "cell_type": "markdown",
   "id": "b879ee23",
   "metadata": {},
   "source": [
    "Результат пустой – индикатор всегда строится с дефолтами, поэтому итоговая доходность не зависит от параметров."
   ]
  },
  {
   "cell_type": "markdown",
   "id": "74c84c92",
   "metadata": {},
   "source": [
    "## 2. Исправление\n",
    "Нужно нормализовать имена параметров перед сопоставлением. Проще всего перевести ключ в нижний регистр, а затем взять значение из `param_mapping`."
   ]
  },
  {
   "cell_type": "code",
   "execution_count": null,
   "id": "197f26ad",
   "metadata": {},
   "outputs": [],
   "source": [
    "def fixed_indicator_params(params):\n",
    "    param_mapping = {\n",
    "        'katr': 'KATR',\n",
    "        'peratr': 'PerATR',\n",
    "        'sma': 'SMA',\n",
    "        'minra': 'MinRA',\n",
    "        'flatr': 'FlATR',\n",
    "        'flhl': 'FlHL',\n",
    "    }\n",
    "    indicator_params = {}\n",
    "    for param_key, param_value in params.items():\n",
    "        normalized_key = param_key.lower()\n",
    "        if normalized_key in param_mapping and param_value is not None:\n",
    "            indicator_params[param_mapping[normalized_key]] = param_value\n",
    "    return indicator_params\n",
    "\n",
    "pprint(fixed_indicator_params(original_params))"
   ]
  },
  {
   "cell_type": "markdown",
   "id": "8f141117",
   "metadata": {},
   "source": [
    "Теперь все параметры проходят, и индикатор реально меняется при бэктесте."
   ]
  },
  {
   "cell_type": "markdown",
   "id": "11e2b09a",
   "metadata": {},
   "source": [
    "## 3. Готовая функция для блокнота\n",
    "Ниже финальная версия `build_indicator`, которую можно скопировать в рабочий ноутбук перед запуском оптимизации. Она:\n",
    "- принимает параметры в любом регистре;\n",
    "- отбрасывает `None`;\n",
    "- выводит, какие значения реально ушли в расчёт (по желанию)."
   ]
  },
  {
   "cell_type": "code",
   "execution_count": null,
   "id": "2ec1a702",
   "metadata": {},
   "outputs": [],
   "source": [
    "from signals.signal_registry import SignalRegistry\n",
    "\n",
    "def build_indicator(df, params, *, verbose=False):\n",
    "    vm_ind = SignalRegistry.get('VolatilityMedian')\n",
    "    param_mapping = {\n",
    "        'katr': 'KATR',\n",
    "        'peratr': 'PerATR',\n",
    "        'sma': 'SMA',\n",
    "        'minra': 'MinRA',\n",
    "        'flatr': 'FlATR',\n",
    "        'flhl': 'FlHL',\n",
    "    }\n",
    "    indicator_params = {}\n",
    "    for key, value in (params or {}).items():\n",
    "        normalized_key = key.lower()\n",
    "        mapped_key = param_mapping.get(normalized_key)\n",
    "        if mapped_key and value is not None:\n",
    "            indicator_params[mapped_key] = value\n",
    "    if verbose:\n",
    "        print(f'Параметры, переданные в VolatilityMedian: {indicator_params}')\n",
    "    return vm_ind.calculate(df, **indicator_params)"
   ]
  },
  {
   "cell_type": "markdown",
   "id": "07c6e240",
   "metadata": {},
   "source": [
    "## 4. Следующие шаги\n",
    "1. В исходном ноутбуке переопределить `build_indicator` этой версией (и, при желании, скорректировать `create_signal_config`, чтобы в `indicator_params` сразу попадали нижние регистры).\n",
    "2. Перезапустить оптимизацию — теперь разные комбинации параметров должны давать разные метрики.\n",
    "3. По итогам можно сохранить лучший набор параметров через `results_store.top_n()` или выгрузку CSV."
   ]
  }
 ],
 "metadata": {},
 "nbformat": 4,
 "nbformat_minor": 5
}
